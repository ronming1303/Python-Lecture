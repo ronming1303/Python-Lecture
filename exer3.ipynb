{
 "cells": [
  {
   "cell_type": "markdown",
   "metadata": {},
   "source": [
    "## 第三次练习"
   ]
  },
  {
   "cell_type": "markdown",
   "metadata": {},
   "source": [
    "+ 请务必交到exer3文件夹下，谢绝交到master下\n",
    "+ 请不要改动任何文件，拜托\n",
    "+ 请在10月23日前提交。"
   ]
  },
  {
   "cell_type": "markdown",
   "metadata": {},
   "source": [
    "请写一下姓名和学号：\n",
    "+ 姓名  \n",
    "+ 学号"
   ]
  },
  {
   "cell_type": "markdown",
   "metadata": {},
   "source": [
    "### 请从read（）函数指针的角度解读下面代码的结果"
   ]
  },
  {
   "cell_type": "code",
   "execution_count": 5,
   "metadata": {
    "scrolled": true
   },
   "outputs": [
    {
     "name": "stdout",
     "output_type": "stream",
     "text": [
      "一\n",
      "阵风吹过，龙宫的许多宝物被吹落在建邺城。\n",
      "双寿星日惊叹缘分神奇\n",
      "能够遇到你们\n",
      "就算花光所有运气也在所不惜\n",
      "希望后来的我们依旧快乐\n",
      "掉体脂过八高夜夜嗨唱四零七\n",
      "enmm...\n",
      "嘘~~（撒腿就跑并投掷两颗小心心）\n",
      "一个小时\n",
      "是姐姐姐夫直播吃螃蟹\n",
      "是弟弟直播吃 米果和石榴\n",
      "是我的健胃消食片\n",
      "祝我弟生日快乐 学习快乐 天天快乐\n",
      "（直播完还不是要补作业）\n",
      "你站立在小路的这一端，看着他逐渐消失在小路转弯的地方，而且，他用背影默默告诉你：不必追。\n",
      "\n"
     ]
    }
   ],
   "source": [
    "f = open(\"exer3.txt\",\"r\") #opens file with name of \"test.txt\"\n",
    "print(f.read(1))\n",
    "print(f.read())"
   ]
  },
  {
   "cell_type": "markdown",
   "metadata": {},
   "source": [
    "**解读请点开此cell后，写下面：**\n",
    " \n",
    " \n",
    " \n",
    " \n",
    " \n",
    " \n",
    " \n",
    " \n"
   ]
  },
  {
   "cell_type": "markdown",
   "metadata": {},
   "source": [
    "### 请从readline（）函数指针的角度解读下面代码的结果"
   ]
  },
  {
   "cell_type": "code",
   "execution_count": 6,
   "metadata": {},
   "outputs": [
    {
     "name": "stdout",
     "output_type": "stream",
     "text": [
      "一阵风吹过，龙宫的许多宝物被吹落在建邺城。\n",
      "\n",
      "双寿星日惊叹缘分神奇\n",
      "\n"
     ]
    }
   ],
   "source": [
    "f = open(\"exer3.txt\",\"r\") #opens file with name of \"test.txt\"\n",
    "print(f.readline())\n",
    "print(f.readline())"
   ]
  },
  {
   "cell_type": "markdown",
   "metadata": {},
   "source": [
    "**解读请点开此cell后，写下面：**\n",
    " \n",
    " \n",
    " \n",
    " \n",
    " \n",
    " \n",
    " \n",
    " \n"
   ]
  },
  {
   "cell_type": "markdown",
   "metadata": {},
   "source": [
    "### 请将上面的代码扩充为循环，直至显示文本全部内容。"
   ]
  },
  {
   "cell_type": "markdown",
   "metadata": {},
   "source": [
    "### 下面的代码实现了把exer3的内容放到myList里，但是里面出现了很多换行符，请修改下代码使得myList里的内容没有换行符"
   ]
  },
  {
   "cell_type": "code",
   "execution_count": 7,
   "metadata": {},
   "outputs": [
    {
     "name": "stdout",
     "output_type": "stream",
     "text": [
      "['一阵风吹过，龙宫的许多宝物被吹落在建邺城。\\n', '双寿星日惊叹缘分神奇\\n', '能够遇到你们\\n', '就算花光所有运气也在所不惜\\n', '希望后来的我们依旧快乐\\n', '掉体脂过八高夜夜嗨唱四零七\\n', 'enmm...\\n', '嘘~~（撒腿就跑并投掷两颗小心心）\\n', '一个小时\\n', '是姐姐姐夫直播吃螃蟹\\n', '是弟弟直播吃 米果和石榴\\n', '是我的健胃消食片\\n', '祝我弟生日快乐 学习快乐 天天快乐\\n', '（直播完还不是要补作业）\\n', '你站立在小路的这一端，看着他逐渐消失在小路转弯的地方，而且，他用背影默默告诉你：不必追。\\n']\n"
     ]
    }
   ],
   "source": [
    "f = open(\"exer3.txt\",\"r\") #opens file with name of \"test.txt\"\n",
    "myList = []\n",
    "for line in f:\n",
    "    myList.append(line)\n",
    "print(myList)"
   ]
  }
 ],
 "metadata": {
  "kernelspec": {
   "display_name": "Python 3",
   "language": "python",
   "name": "python3"
  },
  "language_info": {
   "codemirror_mode": {
    "name": "ipython",
    "version": 3
   },
   "file_extension": ".py",
   "mimetype": "text/x-python",
   "name": "python",
   "nbconvert_exporter": "python",
   "pygments_lexer": "ipython3",
   "version": "3.6.6"
  },
  "toc": {
   "base_numbering": 1,
   "nav_menu": {},
   "number_sections": true,
   "sideBar": true,
   "skip_h1_title": false,
   "title_cell": "Table of Contents",
   "title_sidebar": "Contents",
   "toc_cell": false,
   "toc_position": {},
   "toc_section_display": true,
   "toc_window_display": true
  }
 },
 "nbformat": 4,
 "nbformat_minor": 2
}
